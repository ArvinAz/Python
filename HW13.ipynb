{
  "nbformat": 4,
  "nbformat_minor": 0,
  "metadata": {
    "colab": {
      "name": "HW13.ipynb",
      "provenance": [],
      "authorship_tag": "ABX9TyMF+Xw8/3RiUgv9ehVT0QeW",
      "include_colab_link": true
    },
    "kernelspec": {
      "name": "python3",
      "display_name": "Python 3"
    },
    "language_info": {
      "name": "python"
    }
  },
  "cells": [
    {
      "cell_type": "markdown",
      "metadata": {
        "id": "view-in-github",
        "colab_type": "text"
      },
      "source": [
        "<a href=\"https://colab.research.google.com/github/ArvinAz/Python/blob/main/HW13.ipynb\" target=\"_parent\"><img src=\"https://colab.research.google.com/assets/colab-badge.svg\" alt=\"Open In Colab\"/></a>"
      ]
    },
    {
      "cell_type": "code",
      "execution_count": 1,
      "metadata": {
        "colab": {
          "base_uri": "https://localhost:8080/"
        },
        "id": "ZqTP64Vh7nsm",
        "outputId": "39fe266f-0a50-49d7-ccec-6387b4dc368c"
      },
      "outputs": [
        {
          "output_type": "execute_result",
          "data": {
            "text/plain": [
              "0.868421052631579"
            ]
          },
          "metadata": {},
          "execution_count": 1
        }
      ],
      "source": [
        "#Calculates accuracy\n",
        "import numpy as np\n",
        "from sklearn.metrics import balanced_accuracy_score\n",
        "\n",
        "#define array of actual classes\n",
        "actual = np.repeat([1, 0], repeats=[20, 380])\n",
        "\n",
        "#define array of predicted classes\n",
        "pred = np.repeat([1, 0, 1, 0], repeats=[15, 5, 5, 375])\n",
        "\n",
        "#calculate balanced accuracy score\n",
        "balanced_accuracy_score(actual, pred)"
      ]
    },
    {
      "cell_type": "code",
      "source": [
        "#Calculates precision\n",
        "\n",
        "from sklearn import datasets\n",
        "import pandas as pd\n",
        "\n",
        "from sklearn.metrics import precision_score\n",
        "\n",
        "\n",
        "\n",
        "#define array of actual classes\n",
        "actual = np.repeat([1, 0], repeats=[20, 380])\n",
        "\n",
        "#define array of predicted classes\n",
        "pred = np.repeat([1, 0, 1, 0], repeats=[15, 5, 5, 375])\n",
        "\n",
        "precision_score(actual, pred)"
      ],
      "metadata": {
        "colab": {
          "base_uri": "https://localhost:8080/"
        },
        "id": "Bry0Dr2VOpXF",
        "outputId": "4f890d79-98f3-41ea-e38c-d72f364f8850"
      },
      "execution_count": 7,
      "outputs": [
        {
          "output_type": "execute_result",
          "data": {
            "text/plain": [
              "0.75"
            ]
          },
          "metadata": {},
          "execution_count": 7
        }
      ]
    },
    {
      "cell_type": "code",
      "source": [
        "#Calculating the recall score\n",
        "from sklearn import datasets\n",
        "\n",
        "from sklearn.metrics import recall_score\n",
        "import matplotlib.pyplot as plt\n",
        "\n",
        "\n",
        "#define array of actual classes\n",
        "actual = np.repeat([1, 0], repeats=[20, 380])\n",
        "\n",
        "#define array of predicted classes\n",
        "pred = np.repeat([1, 0, 1, 0], repeats=[15, 5, 5, 375])\n",
        "\n",
        "recall_score(actual, pred)"
      ],
      "metadata": {
        "colab": {
          "base_uri": "https://localhost:8080/"
        },
        "id": "qiuGlQwgPIx2",
        "outputId": "8dcc2c7f-38d4-4741-8d26-47e102f9a6c9"
      },
      "execution_count": 5,
      "outputs": [
        {
          "output_type": "execute_result",
          "data": {
            "text/plain": [
              "0.75"
            ]
          },
          "metadata": {},
          "execution_count": 5
        }
      ]
    },
    {
      "cell_type": "code",
      "source": [
        "#calculating the f1 score\n",
        "import numpy as np\n",
        "from sklearn.metrics import f1_score\n",
        "\n",
        "#define array of actual classes\n",
        "actual = np.repeat([1, 0], repeats=[160, 240])\n",
        "\n",
        "#define array of predicted classes\n",
        "pred = np.repeat([1, 0, 1, 0], repeats=[120, 40, 70, 170])\n",
        "\n",
        "#calculate F1 score\n",
        "f1_score(actual, pred)\n"
      ],
      "metadata": {
        "colab": {
          "base_uri": "https://localhost:8080/"
        },
        "id": "7IKwLod-RGYX",
        "outputId": "b7722ae2-87db-4ce9-b918-a339caa0af2e"
      },
      "execution_count": 4,
      "outputs": [
        {
          "output_type": "execute_result",
          "data": {
            "text/plain": [
              "0.6857142857142857"
            ]
          },
          "metadata": {},
          "execution_count": 4
        }
      ]
    }
  ]
}