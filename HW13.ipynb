{
  "nbformat": 4,
  "nbformat_minor": 0,
  "metadata": {
    "colab": {
      "name": "HW13.ipynb",
      "provenance": [],
      "authorship_tag": "ABX9TyOr39wY+HKWiC6cyfaqUg9h",
      "include_colab_link": true
    },
    "kernelspec": {
      "name": "python3",
      "display_name": "Python 3"
    },
    "language_info": {
      "name": "python"
    }
  },
  "cells": [
    {
      "cell_type": "markdown",
      "metadata": {
        "id": "view-in-github",
        "colab_type": "text"
      },
      "source": [
        "<a href=\"https://colab.research.google.com/github/ArvinAz/Python/blob/main/HW13.ipynb\" target=\"_parent\"><img src=\"https://colab.research.google.com/assets/colab-badge.svg\" alt=\"Open In Colab\"/></a>"
      ]
    },
    {
      "cell_type": "code",
      "execution_count": 1,
      "metadata": {
        "colab": {
          "base_uri": "https://localhost:8080/"
        },
        "id": "ZqTP64Vh7nsm",
        "outputId": "39fe266f-0a50-49d7-ccec-6387b4dc368c"
      },
      "outputs": [
        {
          "output_type": "execute_result",
          "data": {
            "text/plain": [
              "0.868421052631579"
            ]
          },
          "metadata": {},
          "execution_count": 1
        }
      ],
      "source": [
        "#Calculates accuracy\n",
        "import numpy as np\n",
        "from sklearn.metrics import balanced_accuracy_score\n",
        "\n",
        "#define array of actual classes\n",
        "actual = np.repeat([1, 0], repeats=[20, 380])\n",
        "\n",
        "#define array of predicted classes\n",
        "pred = np.repeat([1, 0, 1, 0], repeats=[15, 5, 5, 375])\n",
        "\n",
        "#calculate balanced accuracy score\n",
        "balanced_accuracy_score(actual, pred)"
      ]
    },
    {
      "cell_type": "code",
      "source": [
        "#Calculates precision\n",
        "\n",
        "from sklearn import datasets\n",
        "import pandas as pd\n",
        "from sklearn.linear_model import LogisticRegression\n",
        "from sklearn.model_selection import train_test_split\n",
        "from sklearn.metrics import precision_recall_curve\n",
        "from sklearn.metrics import plot_precision_recall_curve\n",
        "from sklearn.metrics import precision_score\n",
        "from sklearn.metrics import recall_score\n",
        "import matplotlib.pyplot as plt\n",
        "\n",
        "\n",
        "#define array of actual classes\n",
        "actual = np.repeat([1, 0], repeats=[20, 380])\n",
        "\n",
        "#define array of predicted classes\n",
        "pred = np.repeat([1, 0, 1, 0], repeats=[15, 5, 5, 375])\n",
        "\n",
        "precision_score(actual, pred)"
      ],
      "metadata": {
        "colab": {
          "base_uri": "https://localhost:8080/"
        },
        "id": "Bry0Dr2VOpXF",
        "outputId": "291dfc21-05df-4896-b0a4-b8709b747ecb"
      },
      "execution_count": 2,
      "outputs": [
        {
          "output_type": "execute_result",
          "data": {
            "text/plain": [
              "0.75"
            ]
          },
          "metadata": {},
          "execution_count": 2
        }
      ]
    },
    {
      "cell_type": "code",
      "source": [
        "#Calculating the recall\n",
        "from sklearn import datasets\n",
        "import pandas as pd\n",
        "from sklearn.linear_model import LogisticRegression\n",
        "from sklearn.model_selection import train_test_split\n",
        "from sklearn.metrics import precision_recall_curve\n",
        "from sklearn.metrics import plot_precision_recall_curve\n",
        "from sklearn.metrics import precision_score\n",
        "from sklearn.metrics import recall_score\n",
        "import matplotlib.pyplot as plt\n",
        "\n",
        "\n",
        "#define array of actual classes\n",
        "actual = np.repeat([1, 0], repeats=[20, 380])\n",
        "\n",
        "#define array of predicted classes\n",
        "pred = np.repeat([1, 0, 1, 0], repeats=[15, 5, 5, 375])\n",
        "\n",
        "recall_score(actual, pred)"
      ],
      "metadata": {
        "colab": {
          "base_uri": "https://localhost:8080/"
        },
        "id": "qiuGlQwgPIx2",
        "outputId": "a5672277-3603-44f1-aacd-adda77075238"
      },
      "execution_count": 3,
      "outputs": [
        {
          "output_type": "execute_result",
          "data": {
            "text/plain": [
              "0.75"
            ]
          },
          "metadata": {},
          "execution_count": 3
        }
      ]
    }
  ]
}