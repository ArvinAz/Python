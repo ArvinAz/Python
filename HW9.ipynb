{
  "nbformat": 4,
  "nbformat_minor": 0,
  "metadata": {
    "colab": {
      "name": "HW9.ipynb",
      "provenance": []
    },
    "kernelspec": {
      "name": "python3",
      "display_name": "Python 3"
    },
    "language_info": {
      "name": "python"
    }
  },
  "cells": [
    {
      "cell_type": "code",
      "execution_count": 9,
      "metadata": {
        "colab": {
          "base_uri": "https://localhost:8080/"
        },
        "id": "BWspVLT4nRcM",
        "outputId": "bf309390-42f6-48d4-b968-ed62a3e8a15d"
      },
      "outputs": [
        {
          "output_type": "stream",
          "name": "stdout",
          "text": [
            "32\n",
            "8.000000000000002\n",
            "10.864621484432858\n"
          ]
        }
      ],
      "source": [
        "#Q1\n",
        "import numpy as np\n",
        "import math as m\n",
        "def theMax(numbers):\n",
        "  max = numbers[0]\n",
        "  for i in numbers:\n",
        "    if max < i:\n",
        "      max = i\n",
        "  return max\n",
        "\n",
        "def theMin(numbers):\n",
        "  min = numbers[0]\n",
        "  for i in numbers:\n",
        "    if min > i:\n",
        "      min = i\n",
        "  return min\n",
        "\n",
        "def theAverage(numbers):\n",
        "  total = 0\n",
        "  for i in numbers:\n",
        "    total += i\n",
        "  return total/len(numbers)\n",
        "\n",
        "def theGeoMean(numbers):\n",
        "  total = 1\n",
        "  for i in numbers:\n",
        "    total *= i\n",
        "  return total**(1/len(numbers))\n",
        "\n",
        "def theStandardDeviation(numbers):\n",
        "  theAvg = theAverage(numbers)\n",
        "  total = 0\n",
        "  for i in numbers:\n",
        "    total = total + (i - theAvg)**2\n",
        "  return m.sqrt(total / len(numbers)-1)\n",
        "\n",
        "a = [2,4,8,16,32]\n",
        "print(theMax(a))\n",
        "print(theGeoMean(a))\n",
        "print(theStandardDeviation(a))\n"
      ]
    },
    {
      "cell_type": "code",
      "source": [
        "import math as m\n",
        "#Q2\n",
        "def circleArea(radius):\n",
        "  return m.pi*radius**2\n",
        "\n",
        "def rectangleArea(side1, side2):\n",
        "  return side1 * side2\n",
        "\n",
        "def squareArea(side1, side2):\n",
        "  return side1 * side2\n",
        "\n",
        "def trianglearea(base, height):\n",
        "  return base*height/2\n",
        "\n",
        "def generalArea():\n",
        "  value = input(\"Which would you like to know the area of [circle, square, rectangle, triangle]\")\n",
        "  if value == 'circle':\n",
        "    radius = float(input(\"enter an radius\"))\n",
        "    print(f\"the area is {circleArea(radius)}.\")\n",
        "  elif value == 'square':\n",
        "    side1 = float(input(\"Enter side1\"))\n",
        "    side2 = float(input(\"Enter side2\"))\n",
        "    print(f\"the area is {squareArea(side1, side2)}.\")\n",
        "  elif value == 'rectangle':\n",
        "    side1 = float(input(\"Enter side1\"))\n",
        "    side2 = float(input(\"Enter side2\"))\n",
        "    print(f\"the area is {rectangleArea(side1, side2)}.\")\n",
        "  elif value == 'triangle':\n",
        "    base = float(input(\"Enter base\"))\n",
        "    height = float(input(\"Enter height\"))\n",
        "    print(f\"the area is {rectangleArea(base, height)}.\")\n",
        "generalArea()"
      ],
      "metadata": {
        "colab": {
          "base_uri": "https://localhost:8080/"
        },
        "id": "8Jtl23t5tjlu",
        "outputId": "3c6b31e8-bb21-4ab8-fe4c-567aa63ab54e"
      },
      "execution_count": 39,
      "outputs": [
        {
          "output_type": "stream",
          "name": "stdout",
          "text": [
            "Which would you like to know the area of [circle, square, rectangle, triangle]triangle\n",
            "Enter base5\n",
            "Enter height12\n",
            "the area is 60.0.\n"
          ]
        }
      ]
    },
    {
      "cell_type": "code",
      "source": [
        "import numpy as np\n",
        "def listDoubling():\n",
        "  x = [1,2,3]\n",
        "  y = [1,2,3]\n",
        "  choice = int(input(\"1 or 2\"))\n",
        "  if(choice == 1):\n",
        "    print(x+y)\n",
        "  else:\n",
        "    print(np.array(x)+np.array(y))\n",
        "\n",
        "listDoubling()"
      ],
      "metadata": {
        "colab": {
          "base_uri": "https://localhost:8080/"
        },
        "id": "wZHysgSCwP75",
        "outputId": "eae13baa-c162-4748-85e8-43704dca245a"
      },
      "execution_count": 22,
      "outputs": [
        {
          "output_type": "stream",
          "name": "stdout",
          "text": [
            "1 or 22\n",
            "[2 4 6]\n"
          ]
        }
      ]
    },
    {
      "cell_type": "code",
      "source": [
        "#Q3\n",
        "import numpy as np\n",
        "#create an empty list\n",
        "def concatenatePositions(list1,list2):\n",
        "  myBigList = []\n",
        "  for i in range(len(list1)):\n",
        "    myBigList.append(float(str(list1[i])+str(list2[i]))) #Figure out why list1[i] + list2[i] does not work\n",
        "  return myBigList\n",
        "\n",
        "list1 = [1,2,3]\n",
        "list2 = [7,8,9]\n",
        "concatenatePositions(list1, list2)\n"
      ],
      "metadata": {
        "colab": {
          "base_uri": "https://localhost:8080/"
        },
        "id": "MUK7fZGmxNRc",
        "outputId": "7bd088d6-7f79-4bad-8034-28f6beeff093"
      },
      "execution_count": 27,
      "outputs": [
        {
          "output_type": "execute_result",
          "data": {
            "text/plain": [
              "[17.0, 28.0, 39.0]"
            ]
          },
          "metadata": {},
          "execution_count": 27
        }
      ]
    },
    {
      "cell_type": "code",
      "source": [
        "def isPrime(num):\n",
        "  for i in range(2,num):\n",
        "    if (num%i == 0):\n",
        "      return False\n",
        "  return True\n",
        "\n",
        "def listPrimes(amount):\n",
        "  #an empty list\n",
        "  myList= []\n",
        "  count = 0\n",
        "  checkVal = 2\n",
        "  while (count < amount):\n",
        "    if(isPrime(checkVal)):\n",
        "      myList.append(checkVal)\n",
        "      count += 1\n",
        "    checkVal += 1\n",
        "  return myList\n",
        "\n",
        "print(listPrimes(100))"
      ],
      "metadata": {
        "colab": {
          "base_uri": "https://localhost:8080/"
        },
        "id": "unURrFfkzW_e",
        "outputId": "60090a84-e0d6-49a1-d53b-2613584b4f1c"
      },
      "execution_count": 31,
      "outputs": [
        {
          "output_type": "stream",
          "name": "stdout",
          "text": [
            "[2, 3, 5, 7, 11, 13, 17, 19, 23, 29, 31, 37, 41, 43, 47, 53, 59, 61, 67, 71, 73, 79, 83, 89, 97, 101, 103, 107, 109, 113, 127, 131, 137, 139, 149, 151, 157, 163, 167, 173, 179, 181, 191, 193, 197, 199, 211, 223, 227, 229, 233, 239, 241, 251, 257, 263, 269, 271, 277, 281, 283, 293, 307, 311, 313, 317, 331, 337, 347, 349, 353, 359, 367, 373, 379, 383, 389, 397, 401, 409, 419, 421, 431, 433, 439, 443, 449, 457, 461, 463, 467, 479, 487, 491, 499, 503, 509, 521, 523, 541]\n"
          ]
        }
      ]
    },
    {
      "cell_type": "code",
      "source": [
        "def calculation(one, two):\n",
        "  return one * two, one/two #Returns a list\n",
        "\n",
        "myVal = calculation(9,3) #returns a list\n",
        "print(myVal[0])\n",
        "print(myVal[1])"
      ],
      "metadata": {
        "colab": {
          "base_uri": "https://localhost:8080/"
        },
        "id": "TvNCrc6s1CGR",
        "outputId": "3cacc8a0-1a52-4adf-beb7-7c210d385c2f"
      },
      "execution_count": 32,
      "outputs": [
        {
          "output_type": "stream",
          "name": "stdout",
          "text": [
            "27\n",
            "3.0\n"
          ]
        }
      ]
    },
    {
      "cell_type": "code",
      "source": [
        "myList  = []\n",
        "for i in range(1000):\n",
        "  if (i%3 == 0) or (i%5 == 0):\n",
        "    myList.append(i)\n",
        "\n",
        "total = 0\n",
        "for i in myList:\n",
        "  total = total + i\n",
        "\n",
        "print(total)"
      ],
      "metadata": {
        "colab": {
          "base_uri": "https://localhost:8080/"
        },
        "id": "8Ue_1swa15bO",
        "outputId": "0c97998d-caab-4145-adfd-f1195cfd4597"
      },
      "execution_count": 33,
      "outputs": [
        {
          "output_type": "stream",
          "name": "stdout",
          "text": [
            "233168\n"
          ]
        }
      ]
    },
    {
      "cell_type": "code",
      "source": [
        "#set up\n",
        "bound = 500\n",
        "numOne = 1\n",
        "numTwo = 1\n",
        "numThree = numOne + numTwo\n",
        "total = 0\n",
        "\n",
        "while(numThree < bound):\n",
        "  numThree = numOne + numTwo\n",
        "  if numThree%2 == 0 and numThree < bound:\n",
        "    total += numThree\n",
        "  numOne = numTwo\n",
        "  numTwo = numThree\n",
        " \n",
        "print(total)\n",
        "\n"
      ],
      "metadata": {
        "colab": {
          "base_uri": "https://localhost:8080/"
        },
        "id": "UZSuF3lv2mX9",
        "outputId": "5bd6870f-d98c-4fc2-f0fe-fbc6a1231524"
      },
      "execution_count": 35,
      "outputs": [
        {
          "output_type": "stream",
          "name": "stdout",
          "text": [
            "188\n"
          ]
        }
      ]
    }
  ]
}