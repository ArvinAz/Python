{
  "nbformat": 4,
  "nbformat_minor": 0,
  "metadata": {
    "colab": {
      "name": "HW8.ipynb",
      "provenance": [],
      "collapsed_sections": [],
      "authorship_tag": "ABX9TyOPaCl8xVv72bY1J8+VRlil",
      "include_colab_link": true
    },
    "kernelspec": {
      "name": "python3",
      "display_name": "Python 3"
    },
    "language_info": {
      "name": "python"
    }
  },
  "cells": [
    {
      "cell_type": "markdown",
      "metadata": {
        "id": "view-in-github",
        "colab_type": "text"
      },
      "source": [
        "<a href=\"https://colab.research.google.com/github/ArvinAz/Python/blob/main/HW8.ipynb\" target=\"_parent\"><img src=\"https://colab.research.google.com/assets/colab-badge.svg\" alt=\"Open In Colab\"/></a>"
      ]
    },
    {
      "cell_type": "code",
      "execution_count": null,
      "metadata": {
        "id": "Ry_mTL025Uyd"
      },
      "outputs": [],
      "source": [
        "import numpy as np\n",
        "\n",
        "#avg of two numbers\n",
        "def avg_of_2(x,y):\n",
        "  return (x+y)/2\n",
        "\n",
        "#avg of a list of numbers\n",
        "def avg_of_list(myNums):\n",
        "  total = 0\n",
        "  for i in myNums:\n",
        "    total = total + i\n",
        "  return total/len(myNums)\n",
        "\n",
        "#getting the weighted average of a np.array\n",
        "def expectedValue1(info, weights):\n",
        "  return (info @ weights)\n",
        "\n",
        "num_one = 2\n",
        "num_two = 5\n",
        "print(avg_of_2(num_one,num_two))\n",
        "\n",
        "z = [1,2,3,4,5,6,7,8]\n",
        "print(avg_of_list(z))\n",
        "\n",
        "info = np.array([2,3,4,5,6])\n",
        "weights = np.array([.1,.15,.07,.32,.36])\n",
        "print(expectedValue1(info,weights))"
      ]
    },
    {
      "cell_type": "code",
      "source": [
        "#sum from a to b\n",
        "def sumRange(a, b):\n",
        "  total =0\n",
        "  for i in range(a,b+1):\n",
        "    total = total + i\n",
        "  return total\n",
        "\n",
        "print(sumRange(5,8))"
      ],
      "metadata": {
        "id": "vHB1ErWX5hXo"
      },
      "execution_count": null,
      "outputs": []
    },
    {
      "cell_type": "code",
      "source": [
        "#output the triangle numbers, or squares, or pentoganol numbers\n",
        "def shapeNumbers(shape):\n",
        "  if (shape == \"triangle\"):\n",
        "    skipVal = 1\n",
        "  elif(shape == \"square\"):\n",
        "    skipVal = 2\n",
        "  elif (shape == \"pentagon\"):\n",
        "    skipVal = 3\n",
        "  \n",
        "  total = 0\n",
        "  for i in range(1,100,skipVal):\n",
        "    total = total + i\n",
        "    print(total,end = \" \")\n",
        "  print()\n",
        "\n",
        "shapeNumbers(\"triangle\")\n",
        "shapeNumbers(\"square\")\n",
        "shapeNumbers(\"pentagon\")"
      ],
      "metadata": {
        "id": "yr7fIMrM5j5Q"
      },
      "execution_count": null,
      "outputs": []
    },
    {
      "cell_type": "code",
      "source": [
        "#list of primes below some n\n",
        "#first create a function that tells you if a number is prime\n",
        "def isPrime(number):\n",
        "  for i in range(2,number):\n",
        "    if(number%i == 0):\n",
        "      return False\n",
        "  return True\n",
        "\n",
        "def listPrimes(number):\n",
        "  for i in range(2,number+1):\n",
        "    if(isPrime(i)):\n",
        "      print(i, end = \" \")\n",
        "\n",
        "listPrimes(100)"
      ],
      "metadata": {
        "id": "aT5DmfLN5kn4"
      },
      "execution_count": null,
      "outputs": []
    },
    {
      "cell_type": "code",
      "source": [
        "#list all numbers below some n that are coprime to it\n",
        "#coprime means that a and b only share 1 as a divisor\n",
        "#for instance 12 shares only a 1 with 1,5,7, and 11\n",
        "#the key here is to break down the problem into multiple functions\n",
        "def isCoprime(a,b):\n",
        "  #make sure a < b\n",
        "  if(a > b):\n",
        "    holder = a\n",
        "    a = b\n",
        "    b = holder\n",
        "\n",
        "  for i in range(2,a+1):\n",
        "    if(a%i ==0 and b%i == 0):\n",
        "      return False\n",
        "  return True\n",
        "\n",
        "def listCoprimes(number):\n",
        "  for i in range(1,number):\n",
        "    if(isCoprime(i,number)):\n",
        "      print(i, end= \" \")\n",
        "  print()\n",
        "\n",
        "listCoprimes(12)\n",
        "\n",
        "def numCoprimes(number):\n",
        "  coprimenum = 0;\n",
        "  for i in range(1,number):\n",
        "    if(isCoprime(i,number)):\n",
        "      coprimenum+=1\n",
        "  print(coprimenum)\n",
        "numCoprimes(12)\n"
      ],
      "metadata": {
        "colab": {
          "base_uri": "https://localhost:8080/"
        },
        "id": "SXrjS9fK5q7V",
        "outputId": "301959b8-49dd-4c6e-9339-41a98a88518f"
      },
      "execution_count": 5,
      "outputs": [
        {
          "output_type": "stream",
          "name": "stdout",
          "text": [
            "1 5 7 11 \n",
            "4\n"
          ]
        }
      ]
    },
    {
      "cell_type": "code",
      "source": [
        "#list twin primes\n",
        "def isPrime(number):\n",
        "  for i in range(2,number):\n",
        "    if(number%i == 0):\n",
        "      return False\n",
        "  return True\n",
        "\n",
        "def listPrimes(number):\n",
        "  for i in range(2,number+1):\n",
        "    if(isPrime(i)):\n",
        "      print(i, end = \" \")\n",
        "\n",
        "def isTwinPrime(s):\n",
        "  if(isPrime(s) and isPrime(s+2)):\n",
        "    return True\n",
        "  return False\n",
        "\n",
        "def listTwinPrimes(number):\n",
        "  for i in range(2,number+1):\n",
        "    if(isTwinPrime(i)):\n",
        "      print(i,i+2)\n",
        "\n",
        "listTwinPrimes(100)"
      ],
      "metadata": {
        "colab": {
          "base_uri": "https://localhost:8080/"
        },
        "id": "AuX4lRkq5y-z",
        "outputId": "a5591899-2600-4fa2-b9aa-79bc6f979889"
      },
      "execution_count": 3,
      "outputs": [
        {
          "output_type": "stream",
          "name": "stdout",
          "text": [
            "3 5\n",
            "5 7\n",
            "11 13\n",
            "17 19\n",
            "29 31\n",
            "41 43\n",
            "59 61\n",
            "71 73\n"
          ]
        }
      ]
    },
    {
      "cell_type": "code",
      "source": [
        "#testing rock, paper, scissors\n",
        "import random as rnd\n",
        "\n",
        "rock = paper = scissors = 0\n",
        "for i in range(100000):\n",
        "  playerOne = rnd.randint(1,3)\n",
        "  playerTwo = rnd.randint(1,3)\n",
        "\n",
        "  if ((playerOne == 1 and playerTwo == 3) or (playerTwo == 1 and playerOne == 3)):\n",
        "    rock = rock +1\n",
        "  elif((playerOne == 2 and playerTwo == 1) or (playerTwo == 2 and playerOne == 1)):\n",
        "    paper = paper+1\n",
        "  elif((playerOne == 3 and playerTwo == 2) or (playerTwo == 3 and playerOne == 2)):\n",
        "    scissors = scissors + 1\n",
        "  \n",
        "print(rock/100000)\n",
        "print(paper/100000)\n",
        "print(scissors/100000)\n",
        "print((100000-(rock+paper+scissors))/100000)"
      ],
      "metadata": {
        "id": "JZ1TaX9X6Mon"
      },
      "execution_count": null,
      "outputs": []
    },
    {
      "cell_type": "code",
      "source": [
        "#monty hall problem\n",
        "import random as rnd\n",
        "\n",
        "def yesChange():\n",
        " #set 1 and 2 to a goat and 3 to a prize\n",
        " myList = [1,2,3]\n",
        " rnd.shuffle(myList)\n",
        "\n",
        "\n",
        "\n",
        " #set up the goats and prize\n",
        " doors = ['goat', 'goat', 'goat']\n",
        " doors[myList.index(3)] = 'prize'\n",
        "\n",
        " choice = 0\n",
        "\n",
        " toShow = doors[1:3]\n",
        " door_to_show = toShow.index(\"goat\")\n",
        " \n",
        " if(door_to_show == 0):\n",
        "   if(doors[2] == 'prize'):\n",
        "     return True\n",
        "   else:\n",
        "     return False\n",
        " elif(door_to_show == 1):\n",
        "   if(doors[1] == 'prize'):\n",
        "     return True\n",
        "   else:\n",
        "     return False\n",
        "\n",
        "def measureNoChange():\n",
        "  total = 0\n",
        "  for i in range(100000):\n",
        "    if(yesChange()):\n",
        "      total = total + 1\n",
        "  print(total/100000)\n",
        "#let the user choose a door\n",
        "\n",
        "measureNoChange()"
      ],
      "metadata": {
        "colab": {
          "base_uri": "https://localhost:8080/"
        },
        "id": "6jljVgEM6vtL",
        "outputId": "3410de37-5446-4403-8fca-121bdb5f5e0b"
      },
      "execution_count": 6,
      "outputs": [
        {
          "output_type": "stream",
          "name": "stdout",
          "text": [
            "0.66654\n"
          ]
        }
      ]
    },
    {
      "cell_type": "code",
      "source": [
        "#monty hall problem\n",
        "import random as rnd\n",
        "\n",
        "def noChange():\n",
        " #set 1 and 2 to a goat and 3 to a prize\n",
        " myList = [1,2,3]\n",
        " rnd.shuffle(myList)\n",
        "\n",
        "\n",
        "#set up the goats and prize\n",
        " doors = ['goat', 'goat', 'goat']\n",
        " doors[myList.index(3)] = 'prize'\n",
        "\n",
        " if doors[0] == 'prize':\n",
        "   return 1\n",
        " else:\n",
        "   return 0\n",
        "\n",
        "def measureNoChange():\n",
        "  total = 0\n",
        "  for i in range(100000):\n",
        "    if(noChange()):\n",
        "      total = total + 1\n",
        "  print(total/100000)\n",
        "#let the user choose a door\n",
        "\n",
        "measureNoChange()\n",
        "\n"
      ],
      "metadata": {
        "colab": {
          "base_uri": "https://localhost:8080/"
        },
        "id": "Hs8c0-gC626X",
        "outputId": "4ac3227d-cf1c-4792-b6ef-2865bede95b8"
      },
      "execution_count": 8,
      "outputs": [
        {
          "output_type": "stream",
          "name": "stdout",
          "text": [
            "0.33349\n"
          ]
        }
      ]
    }
  ]
}